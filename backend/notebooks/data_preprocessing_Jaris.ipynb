{
 "cells": [
  {
   "cell_type": "code",
   "execution_count": 63,
   "metadata": {},
   "outputs": [],
   "source": [
    "import numpy as np\n",
    "import pandas as pd\n",
    "import matplotlib.pyplot as plt\n",
    "import json\n",
    "import os\n",
    "import cv2\n",
    "\n",
    "# Tensorflow\n",
    "import tensorflow as tf\n",
    "from sklearn.preprocessing import LabelEncoder\n",
    "from tensorflow.keras.utils import to_categorical\n"
   ]
  },
  {
   "cell_type": "markdown",
   "metadata": {},
   "source": [
    "# 1) Load Data #"
   ]
  },
  {
   "cell_type": "code",
   "execution_count": 38,
   "metadata": {},
   "outputs": [],
   "source": [
    "# Absolute main path\n",
    "main_path = '../data/'\n",
    "\n",
    "# Read JSON file into a DataFrame with unprocessed instance col\n",
    "wlas_df = pd.read_json(main_path + 'WLASL_v0.3.json')\n"
   ]
  },
  {
   "cell_type": "code",
   "execution_count": 39,
   "metadata": {},
   "outputs": [],
   "source": [
    "def get_videos_ids(json_list):\n",
    "    \"\"\"\n",
    "    function to check if the video id is available in the dataset\n",
    "    and return the viedos ids of the current instance\n",
    "\n",
    "    Input: instance json list\n",
    "    Output: list of videos_ids\n",
    "    \"\"\"\n",
    "    videos_list = []\n",
    "    for ins in json_list:\n",
    "        video_id = ins['video_id']\n",
    "        if os.path.exists(f'{main_path}videos/{video_id}.mp4'):\n",
    "            videos_list.append(video_id)\n",
    "    return videos_list\n"
   ]
  },
  {
   "cell_type": "code",
   "execution_count": 40,
   "metadata": {},
   "outputs": [],
   "source": [
    "def get_json_features(json_list):\n",
    "    \"\"\"\n",
    "    function to check if the video id is available in the dataset\n",
    "    and return the viedos ids and url or any other featrue of the current instance\n",
    "\n",
    "    input: instance json list\n",
    "    output: list of videos_ids\n",
    "    \"\"\"\n",
    "    videos_ids = []\n",
    "    videos_urls = []\n",
    "    for ins in json_list:\n",
    "        video_id = ins['video_id']\n",
    "        video_url = ins['url']\n",
    "        if os.path.exists(f'{main_path}videos/{video_id}.mp4'):\n",
    "            videos_ids.append(video_id)\n",
    "            videos_urls.append(video_url)\n",
    "    return videos_ids, videos_urls\n"
   ]
  },
  {
   "cell_type": "code",
   "execution_count": 41,
   "metadata": {},
   "outputs": [],
   "source": [
    "# Open JSON file (read only)\n",
    "with open(main_path+'WLASL_v0.3.json', 'r') as data_file:\n",
    "    json_data = data_file.read()\n",
    "\n",
    "instance_json = json.loads(json_data)\n"
   ]
  },
  {
   "cell_type": "code",
   "execution_count": 42,
   "metadata": {},
   "outputs": [
    {
     "data": {
      "text/html": [
       "<div>\n",
       "<style scoped>\n",
       "    .dataframe tbody tr th:only-of-type {\n",
       "        vertical-align: middle;\n",
       "    }\n",
       "\n",
       "    .dataframe tbody tr th {\n",
       "        vertical-align: top;\n",
       "    }\n",
       "\n",
       "    .dataframe thead th {\n",
       "        text-align: right;\n",
       "    }\n",
       "</style>\n",
       "<table border=\"1\" class=\"dataframe\">\n",
       "  <thead>\n",
       "    <tr style=\"text-align: right;\">\n",
       "      <th></th>\n",
       "      <th>gloss</th>\n",
       "      <th>instances</th>\n",
       "      <th>videos_ids</th>\n",
       "    </tr>\n",
       "  </thead>\n",
       "  <tbody>\n",
       "    <tr>\n",
       "      <th>0</th>\n",
       "      <td>book</td>\n",
       "      <td>[{'bbox': [385, 37, 885, 720], 'fps': 25, 'fra...</td>\n",
       "      <td>[69241, 07069, 07068, 07070, 07099, 07074]</td>\n",
       "    </tr>\n",
       "    <tr>\n",
       "      <th>1</th>\n",
       "      <td>drink</td>\n",
       "      <td>[{'bbox': [551, 68, 1350, 1080], 'fps': 25, 'f...</td>\n",
       "      <td>[69302, 65539, 17710, 17733, 65540, 17734, 177...</td>\n",
       "    </tr>\n",
       "    <tr>\n",
       "      <th>2</th>\n",
       "      <td>computer</td>\n",
       "      <td>[{'bbox': [0, 0, 360, 240], 'fps': 25, 'frame_...</td>\n",
       "      <td>[12328, 12312, 12311, 12338, 12313, 12314, 123...</td>\n",
       "    </tr>\n",
       "    <tr>\n",
       "      <th>3</th>\n",
       "      <td>before</td>\n",
       "      <td>[{'bbox': [0, 0, 360, 240], 'fps': 25, 'frame_...</td>\n",
       "      <td>[05728, 05749, 05750, 05729, 05730, 65167, 057...</td>\n",
       "    </tr>\n",
       "    <tr>\n",
       "      <th>4</th>\n",
       "      <td>chair</td>\n",
       "      <td>[{'bbox': [0, 0, 360, 240], 'fps': 25, 'frame_...</td>\n",
       "      <td>[09848, 09869, 09849, 09850, 09851, 65328, 09854]</td>\n",
       "    </tr>\n",
       "    <tr>\n",
       "      <th>...</th>\n",
       "      <td>...</td>\n",
       "      <td>...</td>\n",
       "      <td>...</td>\n",
       "    </tr>\n",
       "    <tr>\n",
       "      <th>1995</th>\n",
       "      <td>washington</td>\n",
       "      <td>[{'bbox': [0, 0, 360, 240], 'fps': 25, 'frame_...</td>\n",
       "      <td>[62393, 62394, 62395, 62396, 62398]</td>\n",
       "    </tr>\n",
       "    <tr>\n",
       "      <th>1996</th>\n",
       "      <td>waterfall</td>\n",
       "      <td>[{'bbox': [0, 0, 360, 240], 'fps': 25, 'frame_...</td>\n",
       "      <td>[62488, 62489, 62490, 62492, 62493]</td>\n",
       "    </tr>\n",
       "    <tr>\n",
       "      <th>1997</th>\n",
       "      <td>weigh</td>\n",
       "      <td>[{'bbox': [0, 0, 360, 240], 'fps': 25, 'frame_...</td>\n",
       "      <td>[62782, 62783, 62785]</td>\n",
       "    </tr>\n",
       "    <tr>\n",
       "      <th>1998</th>\n",
       "      <td>wheelchair</td>\n",
       "      <td>[{'bbox': [415, 86, 1811, 1080], 'fps': 25, 'f...</td>\n",
       "      <td>[63044, 63046, 63047, 63050]</td>\n",
       "    </tr>\n",
       "    <tr>\n",
       "      <th>1999</th>\n",
       "      <td>whistle</td>\n",
       "      <td>[{'bbox': [0, 0, 360, 240], 'fps': 25, 'frame_...</td>\n",
       "      <td>[63186, 63188, 63190]</td>\n",
       "    </tr>\n",
       "  </tbody>\n",
       "</table>\n",
       "<p>2000 rows × 3 columns</p>\n",
       "</div>"
      ],
      "text/plain": [
       "           gloss                                          instances  \\\n",
       "0           book  [{'bbox': [385, 37, 885, 720], 'fps': 25, 'fra...   \n",
       "1          drink  [{'bbox': [551, 68, 1350, 1080], 'fps': 25, 'f...   \n",
       "2       computer  [{'bbox': [0, 0, 360, 240], 'fps': 25, 'frame_...   \n",
       "3         before  [{'bbox': [0, 0, 360, 240], 'fps': 25, 'frame_...   \n",
       "4          chair  [{'bbox': [0, 0, 360, 240], 'fps': 25, 'frame_...   \n",
       "...          ...                                                ...   \n",
       "1995  washington  [{'bbox': [0, 0, 360, 240], 'fps': 25, 'frame_...   \n",
       "1996   waterfall  [{'bbox': [0, 0, 360, 240], 'fps': 25, 'frame_...   \n",
       "1997       weigh  [{'bbox': [0, 0, 360, 240], 'fps': 25, 'frame_...   \n",
       "1998  wheelchair  [{'bbox': [415, 86, 1811, 1080], 'fps': 25, 'f...   \n",
       "1999     whistle  [{'bbox': [0, 0, 360, 240], 'fps': 25, 'frame_...   \n",
       "\n",
       "                                             videos_ids  \n",
       "0            [69241, 07069, 07068, 07070, 07099, 07074]  \n",
       "1     [69302, 65539, 17710, 17733, 65540, 17734, 177...  \n",
       "2     [12328, 12312, 12311, 12338, 12313, 12314, 123...  \n",
       "3     [05728, 05749, 05750, 05729, 05730, 65167, 057...  \n",
       "4     [09848, 09869, 09849, 09850, 09851, 65328, 09854]  \n",
       "...                                                 ...  \n",
       "1995                [62393, 62394, 62395, 62396, 62398]  \n",
       "1996                [62488, 62489, 62490, 62492, 62493]  \n",
       "1997                              [62782, 62783, 62785]  \n",
       "1998                       [63044, 63046, 63047, 63050]  \n",
       "1999                              [63186, 63188, 63190]  \n",
       "\n",
       "[2000 rows x 3 columns]"
      ]
     },
     "execution_count": 42,
     "metadata": {},
     "output_type": "execute_result"
    }
   ],
   "source": [
    "# Get available video ids for all rows in wlas_df and add to new col 'videos_id'\n",
    "wlas_df['videos_ids'] = wlas_df['instances'].apply(get_videos_ids)\n",
    "wlas_df\n"
   ]
  },
  {
   "cell_type": "code",
   "execution_count": 43,
   "metadata": {},
   "outputs": [
    {
     "data": {
      "text/html": [
       "<div>\n",
       "<style scoped>\n",
       "    .dataframe tbody tr th:only-of-type {\n",
       "        vertical-align: middle;\n",
       "    }\n",
       "\n",
       "    .dataframe tbody tr th {\n",
       "        vertical-align: top;\n",
       "    }\n",
       "\n",
       "    .dataframe thead th {\n",
       "        text-align: right;\n",
       "    }\n",
       "</style>\n",
       "<table border=\"1\" class=\"dataframe\">\n",
       "  <thead>\n",
       "    <tr style=\"text-align: right;\">\n",
       "      <th></th>\n",
       "      <th>word</th>\n",
       "      <th>video_id</th>\n",
       "      <th>url</th>\n",
       "    </tr>\n",
       "    <tr>\n",
       "      <th>index</th>\n",
       "      <th></th>\n",
       "      <th></th>\n",
       "      <th></th>\n",
       "    </tr>\n",
       "  </thead>\n",
       "  <tbody>\n",
       "    <tr>\n",
       "      <th>0</th>\n",
       "      <td>book</td>\n",
       "      <td>69241</td>\n",
       "      <td>http://aslbricks.org/New/ASL-Videos/book.mp4</td>\n",
       "    </tr>\n",
       "    <tr>\n",
       "      <th>1</th>\n",
       "      <td>book</td>\n",
       "      <td>07069</td>\n",
       "      <td>https://signstock.blob.core.windows.net/signsc...</td>\n",
       "    </tr>\n",
       "    <tr>\n",
       "      <th>2</th>\n",
       "      <td>book</td>\n",
       "      <td>07068</td>\n",
       "      <td>https://s3-us-west-1.amazonaws.com/files.start...</td>\n",
       "    </tr>\n",
       "    <tr>\n",
       "      <th>3</th>\n",
       "      <td>book</td>\n",
       "      <td>07070</td>\n",
       "      <td>https://media.asldeafined.com/vocabulary/14666...</td>\n",
       "    </tr>\n",
       "    <tr>\n",
       "      <th>4</th>\n",
       "      <td>book</td>\n",
       "      <td>07099</td>\n",
       "      <td>http://www.aslsearch.com/signs/videos/book.mp4</td>\n",
       "    </tr>\n",
       "    <tr>\n",
       "      <th>...</th>\n",
       "      <td>...</td>\n",
       "      <td>...</td>\n",
       "      <td>...</td>\n",
       "    </tr>\n",
       "    <tr>\n",
       "      <th>11975</th>\n",
       "      <td>wheelchair</td>\n",
       "      <td>63047</td>\n",
       "      <td>https://www.signingsavvy.com/signs/mp4/5/5233.mp4</td>\n",
       "    </tr>\n",
       "    <tr>\n",
       "      <th>11976</th>\n",
       "      <td>wheelchair</td>\n",
       "      <td>63050</td>\n",
       "      <td>http://www.aslsearch.com/signs/videos/wheelcha...</td>\n",
       "    </tr>\n",
       "    <tr>\n",
       "      <th>11977</th>\n",
       "      <td>whistle</td>\n",
       "      <td>63186</td>\n",
       "      <td>https://media.spreadthesign.com/video/mp4/13/9...</td>\n",
       "    </tr>\n",
       "    <tr>\n",
       "      <th>11978</th>\n",
       "      <td>whistle</td>\n",
       "      <td>63188</td>\n",
       "      <td>https://www.signingsavvy.com/signs/mp4/9/9961.mp4</td>\n",
       "    </tr>\n",
       "    <tr>\n",
       "      <th>11979</th>\n",
       "      <td>whistle</td>\n",
       "      <td>63190</td>\n",
       "      <td>http://www.aslsearch.com/signs/videos/whistle.mp4</td>\n",
       "    </tr>\n",
       "  </tbody>\n",
       "</table>\n",
       "<p>11980 rows × 3 columns</p>\n",
       "</div>"
      ],
      "text/plain": [
       "             word video_id                                                url\n",
       "index                                                                        \n",
       "0            book    69241       http://aslbricks.org/New/ASL-Videos/book.mp4\n",
       "1            book    07069  https://signstock.blob.core.windows.net/signsc...\n",
       "2            book    07068  https://s3-us-west-1.amazonaws.com/files.start...\n",
       "3            book    07070  https://media.asldeafined.com/vocabulary/14666...\n",
       "4            book    07099     http://www.aslsearch.com/signs/videos/book.mp4\n",
       "...           ...      ...                                                ...\n",
       "11975  wheelchair    63047  https://www.signingsavvy.com/signs/mp4/5/5233.mp4\n",
       "11976  wheelchair    63050  http://www.aslsearch.com/signs/videos/wheelcha...\n",
       "11977     whistle    63186  https://media.spreadthesign.com/video/mp4/13/9...\n",
       "11978     whistle    63188  https://www.signingsavvy.com/signs/mp4/9/9961.mp4\n",
       "11979     whistle    63190  http://www.aslsearch.com/signs/videos/whistle.mp4\n",
       "\n",
       "[11980 rows x 3 columns]"
      ]
     },
     "execution_count": 43,
     "metadata": {},
     "output_type": "execute_result"
    }
   ],
   "source": [
    "# Create separate DataFrame for available information in each instance\n",
    "features_df = pd.DataFrame(columns=['word', 'video_id', 'url'])\n",
    "\n",
    "for row in wlas_df.iterrows():\n",
    "    # Extract ids and urls for each row\n",
    "    ids, urls = get_json_features(row[1][1])\n",
    "    # Initialize a list matching the length (n) of found ids containing the word\n",
    "    word = [row[1][0]] * len(ids)\n",
    "    # Using zip to create new df with:\n",
    "    # n * word in gloss col (e.g. 6 * book)\n",
    "    # Unique id and url in ids and url col respectively\n",
    "    df = pd.DataFrame(list(zip(word, ids, urls)), columns = features_df.columns)\n",
    "    # Append temporary df to feature_df\n",
    "    features_df = pd.concat([features_df, df], ignore_index=True)\n",
    "\n",
    "# Renaming index col to index\n",
    "features_df.index.name = 'index'\n",
    "features_df\n"
   ]
  },
  {
   "cell_type": "markdown",
   "metadata": {},
   "source": [
    "# 2) Define 20 target classes #"
   ]
  },
  {
   "cell_type": "code",
   "execution_count": 44,
   "metadata": {},
   "outputs": [],
   "source": [
    "# These 20 words were selected based on the amount of samples available\n",
    "\n",
    "selected_words = [\n",
    "    'like', 'work', 'play', 'take', 'call',\n",
    "    'go', 'study', 'give', 'write', 'yesterday',\n",
    "    'far', 'hot', 'cold', 'good', 'bad',\n",
    "    'computer', 'apple', 'doctor', 'family', 'dog'\n",
    "]\n"
   ]
  },
  {
   "cell_type": "code",
   "execution_count": 45,
   "metadata": {},
   "outputs": [],
   "source": [
    "selected_df = features_df[features_df['word'].isin(selected_words)]\n"
   ]
  },
  {
   "cell_type": "code",
   "execution_count": 46,
   "metadata": {},
   "outputs": [],
   "source": [
    "for video_id in selected_df['video_id']:\n",
    "    if os.path.exists(f'{main_path}videos/{video_id}.mp4'):\n",
    "        cap = cv2.VideoCapture(f'{main_path}videos/{video_id}.mp4')\n",
    "        length = int(cap.get(cv2.CAP_PROP_FRAME_COUNT))\n",
    "        selected_df.loc[selected_df['video_id'] == video_id, ['video_length']] = int(length)\n",
    "    pass\n",
    "\n",
    "selected_df = selected_df.reset_index(drop=True)\n"
   ]
  },
  {
   "cell_type": "markdown",
   "metadata": {},
   "source": [
    "# 3) Defining the Input/Features: X #"
   ]
  },
  {
   "cell_type": "code",
   "execution_count": 52,
   "metadata": {},
   "outputs": [],
   "source": [
    "# Frame sampling parameters\n",
    "frames_per_video = 10\n",
    "target_size = (150, 150)\n",
    "# Initialize empty array of desired shape\n",
    "X = np.empty((219, frames_per_video, *target_size, 3), dtype=np.uint8)\n",
    "\n",
    "# Function to perform frame sampling\n",
    "def sample_frames(video_path, frames_per_video, total_frames):\n",
    "    frames = []\n",
    "    cap = cv2.VideoCapture(video_path)\n",
    "\n",
    "    frame_indices = []\n",
    "\n",
    "    while len(set(frame_indices)) != frames_per_video:\n",
    "        frame_indices = sorted(np.random.uniform(0, total_frames-5, frames_per_video).astype(int))\n",
    "\n",
    "    frame_counter = 0\n",
    "\n",
    "    try:\n",
    "        while cap.isOpened():\n",
    "            ret, frame = cap.read()\n",
    "\n",
    "            if not ret:\n",
    "                break\n",
    "\n",
    "            if frame_counter in frame_indices:\n",
    "                # Resize frame to required size\n",
    "                frame = cv2.resize(frame, target_size)\n",
    "                # CV2 output BGR -> converting to RGB\n",
    "                frame_rgb = cv2.cvtColor(frame, cv2.COLOR_BGR2RGB)\n",
    "                # Append to list of frames\n",
    "                frames.append(frame_rgb)\n",
    "\n",
    "            frame_counter += 1\n",
    "\n",
    "            if len(frames) == frames_per_video:\n",
    "                break\n",
    "\n",
    "    finally:\n",
    "        cap.release()\n",
    "\n",
    "    return frames\n"
   ]
  },
  {
   "cell_type": "code",
   "execution_count": 54,
   "metadata": {},
   "outputs": [
    {
     "name": "stderr",
     "output_type": "stream",
     "text": [
      "[h264 @ 0x559d642c45c0] Invalid NAL unit size (745 > 472).\n",
      "[h264 @ 0x559d642c45c0] Error splitting the input into NAL units.\n",
      "[mov,mp4,m4a,3gp,3g2,mj2 @ 0x559d63ad9600] stream 1, offset 0x3b468: partial file\n"
     ]
    }
   ],
   "source": [
    "np.random.seed(10)\n",
    "\n",
    "for i, row in selected_df.iterrows():\n",
    "    video_id = row['video_id']\n",
    "    total_frames = row['video_length']\n",
    "    video_path = f'../data/videos/{video_id}.mp4'\n",
    "\n",
    "    sampled_frames = sample_frames(video_path, frames_per_video, total_frames)\n",
    "\n",
    "    # Assign sampled frames to results array\n",
    "    X[i] = np.array(sampled_frames)\n"
   ]
  },
  {
   "cell_type": "code",
   "execution_count": 91,
   "metadata": {},
   "outputs": [
    {
     "name": "stdout",
     "output_type": "stream",
     "text": [
      "✅ X has been initialized with Shape (219, 10, 150, 150, 3)!\n"
     ]
    }
   ],
   "source": [
    "if X.shape == (219, 10, 150, 150, 3):\n",
    "    print(f'✅ X has been initialized with Shape {X.shape}!')\n",
    "else:\n",
    "    print('❌ X has not been initialized properly!')\n"
   ]
  },
  {
   "cell_type": "markdown",
   "metadata": {},
   "source": [
    "# 4) Defining the Output/Target: y #"
   ]
  },
  {
   "cell_type": "code",
   "execution_count": 94,
   "metadata": {},
   "outputs": [],
   "source": [
    "label_encoder = LabelEncoder()\n",
    "\n",
    "selected_df['encoded_word'] = label_encoder.fit_transform(selected_df['word'])\n",
    "y_cat = tf.keras.utils.to_categorical(selected_df['encoded_word'], num_classes=20)\n"
   ]
  },
  {
   "cell_type": "code",
   "execution_count": 95,
   "metadata": {},
   "outputs": [
    {
     "name": "stdout",
     "output_type": "stream",
     "text": [
      "✅ y has been initialized with Shape (219, 20)!\n"
     ]
    }
   ],
   "source": [
    "if y_cat.shape == (219, 20):\n",
    "    print(f'✅ y has been initialized with Shape {y_cat.shape}!')\n",
    "else:\n",
    "    print('❌ y has not been initialized properly!')\n"
   ]
  },
  {
   "cell_type": "code",
   "execution_count": null,
   "metadata": {},
   "outputs": [],
   "source": []
  }
 ],
 "metadata": {
  "kernelspec": {
   "display_name": "SignFlow",
   "language": "python",
   "name": "python3"
  },
  "language_info": {
   "codemirror_mode": {
    "name": "ipython",
    "version": 3
   },
   "file_extension": ".py",
   "mimetype": "text/x-python",
   "name": "python",
   "nbconvert_exporter": "python",
   "pygments_lexer": "ipython3",
   "version": "3.10.6"
  }
 },
 "nbformat": 4,
 "nbformat_minor": 2
}
