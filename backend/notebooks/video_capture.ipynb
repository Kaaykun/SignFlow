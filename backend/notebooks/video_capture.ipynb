{
 "cells": [
  {
   "cell_type": "code",
   "execution_count": 6,
   "metadata": {},
   "outputs": [],
   "source": [
    "import cv2\n",
    "import time\n",
    "import os\n",
    "\n",
    "from backend.params import *\n"
   ]
  },
  {
   "cell_type": "code",
   "execution_count": 9,
   "metadata": {},
   "outputs": [],
   "source": [
    "#from backend.ml_logic.registry import record_videos\n",
    "\n",
    "def record_videos(word, name, video_duration, num_videos):\n",
    "    \"\"\"\n",
    "    Record multiple videos using the default camera for a specified duration.\n",
    "\n",
    "    Parameters:\n",
    "    - word (str): Word or label for the recorded videos.\n",
    "    - video_duration (float): Duration of each recorded video in seconds.\n",
    "    - num_videos (int): Number of videos to record.\n",
    "    - custom_video_path (str): Path to store the recorded videos. Defaults to '../data/custom_videos/'.\n",
    "\n",
    "    Returns:\n",
    "    - None\n",
    "    \"\"\"\n",
    "    output_folder = os.path.dirname(f'{CUSTOM_VIDEO_PATH}')\n",
    "\n",
    "    if not os.path.exists(output_folder):\n",
    "        os.makedirs(output_folder)\n",
    "\n",
    "    for video_num in range(1, num_videos + 1):\n",
    "        output_file = f\"{word}_{name}_{video_num}.mp4\"\n",
    "\n",
    "        # Open a video capture stream (use 0 for default camera)\n",
    "        cap = cv2.VideoCapture(0)\n",
    "\n",
    "        # Set video resolution (optional)\n",
    "        cap.set(cv2.CAP_PROP_FRAME_WIDTH, 360)\n",
    "        cap.set(cv2.CAP_PROP_FRAME_HEIGHT, 360)\n",
    "\n",
    "        # Get the frames per second (fps) of the video capture stream\n",
    "        fps = cap.get(cv2.CAP_PROP_FPS)\n",
    "\n",
    "        # Calculate the number of frames needed to capture for the specified duration\n",
    "        num_frames_to_capture = int(fps * video_duration)\n",
    "\n",
    "        # Create a VideoWriter object to save the video\n",
    "        fourcc = cv2.VideoWriter.fourcc(*'mp4v')\n",
    "        out = cv2.VideoWriter(output_file, fourcc, fps, (int(cap.get(3)), int(cap.get(4))))\n",
    "\n",
    "        # Record video for the specified durations\n",
    "        start_time = time.time()\n",
    "        frame_count = 0\n",
    "\n",
    "        while frame_count < num_frames_to_capture:\n",
    "            ret, frame = cap.read()\n",
    "\n",
    "            if not ret:\n",
    "                break\n",
    "\n",
    "            # Write the frame to the output video file\n",
    "            out.write(frame)\n",
    "\n",
    "            frame_count += 1\n",
    "\n",
    "        # Release the video capture and writer objects\n",
    "        cap.release()\n",
    "        out.release()\n",
    "\n",
    "        # Print information about the recorded video\n",
    "        elapsed_time = time.time() - start_time\n",
    "        print(f\"Video recorded: {output_file}\")\n",
    "        print(f\"Duration: {elapsed_time:.2f} seconds\")\n",
    "        print(f\"Number of frames: {frame_count}\")\n",
    "        print(f\"Frames per second: {fps}\")\n",
    "        print()\n"
   ]
  },
  {
   "cell_type": "code",
   "execution_count": 11,
   "metadata": {},
   "outputs": [
    {
     "data": {
      "text/plain": [
       "'/Users/roshnikumar/code/Kaaykun/SignFlow/backend/data/custom_videos/'"
      ]
     },
     "execution_count": 11,
     "metadata": {},
     "output_type": "execute_result"
    }
   ],
   "source": [
    "#record_videos('hello', 'Roshni', 2, 5)\n",
    "CUSTOM_VIDEO_PATH\n"
   ]
  }
 ],
 "metadata": {
  "kernelspec": {
   "display_name": "SignFlow",
   "language": "python",
   "name": "python3"
  },
  "language_info": {
   "codemirror_mode": {
    "name": "ipython",
    "version": 3
   },
   "file_extension": ".py",
   "mimetype": "text/x-python",
   "name": "python",
   "nbconvert_exporter": "python",
   "pygments_lexer": "ipython3",
   "version": "3.10.6"
  }
 },
 "nbformat": 4,
 "nbformat_minor": 2
}
