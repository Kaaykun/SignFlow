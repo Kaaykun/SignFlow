{
 "cells": [
  {
   "cell_type": "code",
   "execution_count": 4,
   "metadata": {},
   "outputs": [
    {
     "name": "stdout",
     "output_type": "stream",
     "text": [
      "Video recorded: output_video_1.mp4\n",
      "Duration: 0.56 seconds\n",
      "Number of frames: 2\n",
      "Frames per second: 30.0\n",
      "Video recorded: output_video_2.mp4\n",
      "Duration: 0.57 seconds\n",
      "Number of frames: 2\n",
      "Frames per second: 30.0\n",
      "Video recorded: output_video_3.mp4\n",
      "Duration: 0.58 seconds\n",
      "Number of frames: 2\n",
      "Frames per second: 30.0\n",
      "Video recorded: output_video_4.mp4\n",
      "Duration: 0.57 seconds\n",
      "Number of frames: 2\n",
      "Frames per second: 30.0\n",
      "Video recorded: output_video_5.mp4\n",
      "Duration: 0.56 seconds\n",
      "Number of frames: 2\n",
      "Frames per second: 30.0\n"
     ]
    }
   ],
   "source": [
    "import cv2\n",
    "import time\n",
    "\n",
    "def record_videos(video_duration, output_prefix, num_videos):\n",
    "    for video_num in range(1, num_videos + 1):\n",
    "        output_file = f\"{output_prefix}_{video_num}.mp4\"\n",
    "\n",
    "        # Open a video capture stream (use 0 for default camera)\n",
    "        cap = cv2.VideoCapture(0)\n",
    "\n",
    "        # Set video resolution (optional)\n",
    "        # cap.set(cv2.CAP_PROP_FRAME_WIDTH, 640)\n",
    "        # cap.set(cv2.CAP_PROP_FRAME_HEIGHT, 480)\n",
    "\n",
    "        # Get the frames per second (fps) of the video capture stream\n",
    "        fps = cap.get(cv2.CAP_PROP_FPS)\n",
    "\n",
    "        # Calculate the number of frames needed to capture for the specified duration\n",
    "        num_frames_to_capture = int(fps*video_duration)\n",
    "\n",
    "        # Create a VideoWriter object to save the video\n",
    "        fourcc = cv2.VideoWriter.fourcc(*'mp4v')  # You can choose the codec (XVID is a common choice)\n",
    "        out = cv2.VideoWriter(output_file, fourcc, fps, (int(cap.get(3)), int(cap.get(4))))\n",
    "\n",
    "        # Record video for the specified durations\n",
    "        start_time = time.time()\n",
    "        frame_count = 0\n",
    "\n",
    "        while frame_count < num_frames_to_capture:\n",
    "            ret, frame = cap.read()\n",
    "\n",
    "            if not ret:\n",
    "                break\n",
    "\n",
    "            # Write the frame to the output video file\n",
    "            out.write(frame)\n",
    "\n",
    "            frame_count += 1\n",
    "\n",
    "        # Release the video capture and writer objects\n",
    "        cap.release()\n",
    "        out.release()\n",
    "\n",
    "        # Print information about the recorded video\n",
    "        elapsed_time = time.time() - start_time\n",
    "        print(f\"Video recorded: {output_file}\")\n",
    "        print(f\"Duration: {elapsed_time:.2f} seconds\")\n",
    "        print(f\"Number of frames: {frame_count}\")\n",
    "        print(f\"Frames per second: {fps}\")\n",
    "\n",
    "if __name__ == \"__main__\":\n",
    "    # Set the duration, output file prefix, and number of videos to record\n",
    "    video_duration = 2  # in seconds\n",
    "    output_prefix = \"output_video\"\n",
    "    num_videos_to_record = 5\n",
    "\n",
    "    # Record the videos in a loop\n",
    "    record_videos(video_duration, output_prefix, num_videos_to_record)\n"
   ]
  },
  {
   "cell_type": "code",
   "execution_count": 3,
   "metadata": {},
   "outputs": [
    {
     "ename": "NameError",
     "evalue": "name 'q' is not defined",
     "output_type": "error",
     "traceback": [
      "\u001b[0;31m---------------------------------------------------------------------------\u001b[0m",
      "\u001b[0;31mNameError\u001b[0m                                 Traceback (most recent call last)",
      "\u001b[1;32m/Users/roshnikumar/code/Kaaykun/SignFlow/backend/notebooks/testing_video.ipynb Zelle 2\u001b[0m line \u001b[0;36m1\n\u001b[0;32m----> <a href='vscode-notebook-cell:/Users/roshnikumar/code/Kaaykun/SignFlow/backend/notebooks/testing_video.ipynb#W4sZmlsZQ%3D%3D?line=0'>1</a>\u001b[0m q\n",
      "\u001b[0;31mNameError\u001b[0m: name 'q' is not defined"
     ]
    }
   ],
   "source": [
    "q\n"
   ]
  },
  {
   "cell_type": "code",
   "execution_count": null,
   "metadata": {},
   "outputs": [],
   "source": []
  }
 ],
 "metadata": {
  "kernelspec": {
   "display_name": "SignFlow",
   "language": "python",
   "name": "python3"
  },
  "language_info": {
   "codemirror_mode": {
    "name": "ipython",
    "version": 3
   },
   "file_extension": ".py",
   "mimetype": "text/x-python",
   "name": "python",
   "nbconvert_exporter": "python",
   "pygments_lexer": "ipython3",
   "version": "3.10.6"
  }
 },
 "nbformat": 4,
 "nbformat_minor": 2
}
